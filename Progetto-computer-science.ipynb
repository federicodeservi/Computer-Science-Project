{
 "cells": [
  {
   "cell_type": "markdown",
   "metadata": {},
   "source": [
    "# Progetto di Foundations of Computer Science"
   ]
  },
  {
   "cell_type": "markdown",
   "metadata": {},
   "source": [
    "#### Nome: Federico\n",
    "#### Cognome: De Servi\n",
    "#### Matricola: 812166"
   ]
  },
  {
   "cell_type": "code",
   "execution_count": 1,
   "metadata": {
    "ExecuteTime": {
     "end_time": "2020-01-26T12:40:39.244228Z",
     "start_time": "2020-01-26T12:40:38.375595Z"
    }
   },
   "outputs": [],
   "source": [
    "#Versione Python: 3\n",
    "#Versione pandas: 0.25.2\n",
    "\n",
    "import pandas as pd\n",
    "import numpy as np\n",
    "import datetime\n",
    "from IPython.display import display"
   ]
  },
  {
   "cell_type": "markdown",
   "metadata": {},
   "source": [
    "### 0. Change paths for the following datasets"
   ]
  },
  {
   "cell_type": "code",
   "execution_count": 2,
   "metadata": {
    "ExecuteTime": {
     "end_time": "2020-01-26T12:40:39.249197Z",
     "start_time": "2020-01-26T12:40:39.246199Z"
    }
   },
   "outputs": [],
   "source": [
    "#Cambiate i path dei seguenti dataset con i path che avete sulla vostra macchina\n",
    "\n",
    "#Dataset: \"loans.csv\"\n",
    "loans_path = r\"C:\\Users\\Federico De Servi\\Computer Science\\loans.csv\"\n",
    "#Dataset: \"lenders.csv\"\n",
    "lenders_path = r\"C:\\Users\\Federico De Servi\\Computer Science\\lenders.csv\"\n",
    "#Dataset: \"loans_lenders.csv\"\n",
    "loans_lenders_path = r\"C:\\Users\\Federico De Servi\\Computer Science\\loans_lenders.csv\"\n",
    "#Dataset: \"country_stats.csv\"\n",
    "country_stats_path = r\"C:\\Users\\Federico De Servi\\Computer Science\\country_stats.csv\" "
   ]
  },
  {
   "cell_type": "markdown",
   "metadata": {},
   "source": [
    "### 1. Normalize the loan_lenders table. In the normalized table, each row must have one loan_id and one lender."
   ]
  },
  {
   "cell_type": "code",
   "execution_count": 3,
   "metadata": {
    "ExecuteTime": {
     "end_time": "2020-01-26T12:40:43.191002Z",
     "start_time": "2020-01-26T12:40:39.251179Z"
    }
   },
   "outputs": [],
   "source": [
    "#Leggo il file loans_lenders\n",
    "\n",
    "loans_lenders = pd.read_csv(loans_lenders_path)"
   ]
  },
  {
   "cell_type": "code",
   "execution_count": 4,
   "metadata": {
    "ExecuteTime": {
     "end_time": "2020-01-26T12:40:43.196023Z",
     "start_time": "2020-01-26T12:40:43.192997Z"
    }
   },
   "outputs": [],
   "source": [
    "#display(loans_lenders.head())"
   ]
  },
  {
   "cell_type": "code",
   "execution_count": 5,
   "metadata": {
    "ExecuteTime": {
     "end_time": "2020-01-26T12:40:55.308800Z",
     "start_time": "2020-01-26T12:40:43.197984Z"
    }
   },
   "outputs": [],
   "source": [
    "#La funzione explode è presente soltanto da pandas 0.25. Essa fa \"esplodere\" liste in righe separate. (vedi docs) \n",
    "#Siccome ogni riga della colonna \"lenders\" è composta da stringhe separate da virgola, devo effettuare una split(\",\") e poi applicare la funzione explode sulla colonna lenders.\n",
    "\n",
    "loans_lenders_norm = loans_lenders.assign(lenders=loans_lenders[\"lenders\"].str.split(\",\")).explode(\"lenders\")"
   ]
  },
  {
   "cell_type": "code",
   "execution_count": 6,
   "metadata": {
    "ExecuteTime": {
     "end_time": "2020-01-26T12:41:04.513459Z",
     "start_time": "2020-01-26T12:40:55.308800Z"
    }
   },
   "outputs": [],
   "source": [
    "#Rimuovo i whitespace che si trovano all'inizio e alla fine di ogni stringa della colonna \"lenders, usando str.strip()\n",
    "#Questo perchè andrebbero a creare problemi successivamente:\n",
    "#se volessi cercare un lender che inizia con uno spazio bianco avrei difficoltà. Meglio evitare.\n",
    "\n",
    "loans_lenders_norm[\"lenders\"] = loans_lenders_norm[\"lenders\"].str.strip()"
   ]
  },
  {
   "cell_type": "code",
   "execution_count": 7,
   "metadata": {
    "ExecuteTime": {
     "end_time": "2020-01-26T12:41:04.522970Z",
     "start_time": "2020-01-26T12:41:04.513459Z"
    }
   },
   "outputs": [],
   "source": [
    "#display(loans_lenders_norm.head())"
   ]
  },
  {
   "cell_type": "markdown",
   "metadata": {},
   "source": [
    "### 2. For each loan, add a column duration corresponding to the number of days between the disburse time and the planned expiration time."
   ]
  },
  {
   "cell_type": "code",
   "execution_count": 8,
   "metadata": {
    "ExecuteTime": {
     "end_time": "2020-01-26T12:41:35.103060Z",
     "start_time": "2020-01-26T12:41:04.525963Z"
    }
   },
   "outputs": [],
   "source": [
    "#Leggo il file\n",
    "#Trasformo le seguenti colonne in datetime format per fare la differenza tra date successivamente \n",
    "\n",
    "loans = pd.read_csv(loans_path, parse_dates=[\"disburse_time\", \"planned_expiration_time\"])\n",
    "pd.set_option('display.max_columns', None)"
   ]
  },
  {
   "cell_type": "code",
   "execution_count": 9,
   "metadata": {
    "ExecuteTime": {
     "end_time": "2020-01-26T12:41:35.107848Z",
     "start_time": "2020-01-26T12:41:35.103060Z"
    }
   },
   "outputs": [],
   "source": [
    "#Visualizzo il tipo di dati contenuti nel dataframe\n",
    "#loans.dtypes"
   ]
  },
  {
   "cell_type": "code",
   "execution_count": 10,
   "metadata": {
    "ExecuteTime": {
     "end_time": "2020-01-26T12:41:35.172308Z",
     "start_time": "2020-01-26T12:41:35.109843Z"
    }
   },
   "outputs": [],
   "source": [
    "#Calcolo la differenza tra expiration e disburse nel dataframe loans_not_nan e la inserisco nella colonna apposita\n",
    "\n",
    "loans[\"duration\"] = loans[\"planned_expiration_time\"] - loans[\"disburse_time\"]"
   ]
  },
  {
   "cell_type": "code",
   "execution_count": 11,
   "metadata": {
    "ExecuteTime": {
     "end_time": "2020-01-26T12:41:35.177388Z",
     "start_time": "2020-01-26T12:41:35.173307Z"
    }
   },
   "outputs": [],
   "source": [
    "#display(loans.head())"
   ]
  },
  {
   "cell_type": "markdown",
   "metadata": {},
   "source": [
    "### 3. Find the lenders that have funded at least twice."
   ]
  },
  {
   "cell_type": "code",
   "execution_count": 12,
   "metadata": {
    "ExecuteTime": {
     "end_time": "2020-01-26T12:41:40.317169Z",
     "start_time": "2020-01-26T12:41:35.177388Z"
    }
   },
   "outputs": [],
   "source": [
    "#Per prima cosa unisco i df loans_lenders_norm e loans per sapere se tutti lenders in loans_lenders_norm corrispondano a uno status \"funded\"\n",
    "\n",
    "loans_lenders_merged = pd.merge(loans_lenders_norm, loans[[\"loan_id\", \"status\"]], on=\"loan_id\", how=\"left\")"
   ]
  },
  {
   "cell_type": "code",
   "execution_count": 13,
   "metadata": {
    "ExecuteTime": {
     "end_time": "2020-01-26T12:41:44.657091Z",
     "start_time": "2020-01-26T12:41:40.317169Z"
    }
   },
   "outputs": [],
   "source": [
    "#Poi seleziono solo le righe che hanno come status \"funded\"\n",
    "\n",
    "loans_lenders_merged_funded = loans_lenders_merged[loans_lenders_merged[\"status\"] == \"funded\"]"
   ]
  },
  {
   "cell_type": "code",
   "execution_count": 14,
   "metadata": {
    "ExecuteTime": {
     "end_time": "2020-01-26T12:41:53.643351Z",
     "start_time": "2020-01-26T12:41:44.658056Z"
    }
   },
   "outputs": [],
   "source": [
    "#E ora seleziono i \"lenders who have funded at least twice\"\n",
    "\n",
    "lenders_twice =  loans_lenders_merged_funded[\"lenders\"].value_counts().reset_index(name=\"count\").query(\"count >= 2\")"
   ]
  },
  {
   "cell_type": "code",
   "execution_count": 15,
   "metadata": {
    "ExecuteTime": {
     "end_time": "2020-01-26T12:41:53.651027Z",
     "start_time": "2020-01-26T12:41:53.643351Z"
    },
    "code_folding": [],
    "scrolled": true
   },
   "outputs": [],
   "source": [
    "#display(lenders_twice.head())"
   ]
  },
  {
   "cell_type": "markdown",
   "metadata": {},
   "source": [
    "### 4. For each country, compute how many loans have involved that country as borrowers.\n"
   ]
  },
  {
   "cell_type": "code",
   "execution_count": 16,
   "metadata": {
    "ExecuteTime": {
     "end_time": "2020-01-26T12:41:54.436836Z",
     "start_time": "2020-01-26T12:41:53.653154Z"
    }
   },
   "outputs": [],
   "source": [
    "#Innanzitutto creo un dataframe che contenga solo le righe di loans che:\n",
    "#1) non hanno valori null in \"duration\"\n",
    "#2) non hanno valori in \"planned_expiration_time\" che siano minori di \"disburse_time\" \n",
    "#(questo non avrebbe alcun senso: potrei scambiarli o fare altre manipolazioni ma voglio essere conservativo, quindi ignoro quelle poche righe che hanno questa anomalia)\n",
    "#in modo da evitare errori) \n",
    "\n",
    "loans_not_null = loans[loans[\"duration\"].isnull() == False]\n",
    "loans_not_null = loans_not_null[loans_not_null[\"planned_expiration_time\"] > loans_not_null[\"disburse_time\"]]"
   ]
  },
  {
   "cell_type": "code",
   "execution_count": 17,
   "metadata": {
    "ExecuteTime": {
     "end_time": "2020-01-26T12:41:57.729173Z",
     "start_time": "2020-01-26T12:41:54.437834Z"
    }
   },
   "outputs": [],
   "source": [
    "#Uso una groupby, a cui applico count. Rinonimo infine la colonna otennuta.\n",
    "\n",
    "num_loans_country = loans_not_null.groupby(\"country_name\").count().reset_index()[[\"country_name\", \"loan_id\"]]\n",
    "num_loans_country = num_loans_country.rename(columns={\"loan_id\" : \"count\"})"
   ]
  },
  {
   "cell_type": "code",
   "execution_count": 18,
   "metadata": {
    "ExecuteTime": {
     "end_time": "2020-01-26T12:41:57.737268Z",
     "start_time": "2020-01-26T12:41:57.729173Z"
    }
   },
   "outputs": [],
   "source": [
    "#display(num_loans_country.head())"
   ]
  },
  {
   "cell_type": "markdown",
   "metadata": {},
   "source": [
    "### 5. For each country, compute the overall amount of money borrowed."
   ]
  },
  {
   "cell_type": "code",
   "execution_count": 19,
   "metadata": {
    "ExecuteTime": {
     "end_time": "2020-01-26T12:41:57.804498Z",
     "start_time": "2020-01-26T12:41:57.738265Z"
    }
   },
   "outputs": [],
   "source": [
    "#Uso una groupby, a cui applico una sum sulla colonna \"loan_amount\". Rinomino la colonna.\n",
    "\n",
    "tot_borr_country = loans_not_null.groupby(\"country_name\")[\"loan_amount\"].sum().reset_index().rename(columns={\"loan_amount\" : \"borrowed_amount\"})"
   ]
  },
  {
   "cell_type": "code",
   "execution_count": 20,
   "metadata": {
    "ExecuteTime": {
     "end_time": "2020-01-26T12:41:57.809460Z",
     "start_time": "2020-01-26T12:41:57.805464Z"
    }
   },
   "outputs": [],
   "source": [
    "#display(tot_borr_country.head())"
   ]
  },
  {
   "cell_type": "markdown",
   "metadata": {},
   "source": [
    "### 6. Like the previous point, but expressed as a percentage of the overall amount lent.\n"
   ]
  },
  {
   "cell_type": "code",
   "execution_count": 21,
   "metadata": {
    "ExecuteTime": {
     "end_time": "2020-01-26T12:41:57.891661Z",
     "start_time": "2020-01-26T12:41:57.811458Z"
    },
    "scrolled": true
   },
   "outputs": [],
   "source": [
    "#Calcolo l'ammontare totale lent_tot, sommano gli elementi della colonna \"loan_amount\". Eseguo i passaggi del punto precedente, didendo per tale totale e moltiplicando per 100. Rinonimo poi la colonna.\n",
    "\n",
    "lent_tot = loans_not_null[\"loan_amount\"].sum()\n",
    "\n",
    "tot_borr_country_perc = loans_not_null.groupby(\"country_name\")[\"loan_amount\"].sum().reset_index()\n",
    "tot_borr_country_perc[\"loan_amount\"] = tot_borr_country_perc[\"loan_amount\"]/lent_tot*100\n",
    "tot_borr_country_perc = tot_borr_country_perc.rename(columns={\"loan_amount\" : \"loan_amount_perc\"})"
   ]
  },
  {
   "cell_type": "code",
   "execution_count": 22,
   "metadata": {
    "ExecuteTime": {
     "end_time": "2020-01-26T12:41:57.896649Z",
     "start_time": "2020-01-26T12:41:57.892659Z"
    }
   },
   "outputs": [],
   "source": [
    "#display(tot_borr_country_perc.head())"
   ]
  },
  {
   "cell_type": "markdown",
   "metadata": {},
   "source": [
    "***"
   ]
  },
  {
   "cell_type": "code",
   "execution_count": 23,
   "metadata": {
    "ExecuteTime": {
     "end_time": "2020-01-26T12:41:57.928323Z",
     "start_time": "2020-01-26T12:41:57.897092Z"
    }
   },
   "outputs": [
    {
     "name": "stdout",
     "output_type": "stream",
     "text": [
      "[ True  True False  True False  True]\n"
     ]
    },
    {
     "data": {
      "text/html": [
       "<div>\n",
       "<style scoped>\n",
       "    .dataframe tbody tr th:only-of-type {\n",
       "        vertical-align: middle;\n",
       "    }\n",
       "\n",
       "    .dataframe tbody tr th {\n",
       "        vertical-align: top;\n",
       "    }\n",
       "\n",
       "    .dataframe thead th {\n",
       "        text-align: right;\n",
       "    }\n",
       "</style>\n",
       "<table border=\"1\" class=\"dataframe\">\n",
       "  <thead>\n",
       "    <tr style=\"text-align: right;\">\n",
       "      <th></th>\n",
       "      <th>country_name</th>\n",
       "      <th>count</th>\n",
       "      <th>borrowed_amount</th>\n",
       "      <th>loan_amount_perc</th>\n",
       "    </tr>\n",
       "  </thead>\n",
       "  <tbody>\n",
       "    <tr>\n",
       "      <td>0</td>\n",
       "      <td>Afghanistan</td>\n",
       "      <td>1</td>\n",
       "      <td>6000.0</td>\n",
       "      <td>0.000692</td>\n",
       "    </tr>\n",
       "    <tr>\n",
       "      <td>1</td>\n",
       "      <td>Albania</td>\n",
       "      <td>3075</td>\n",
       "      <td>4307350.0</td>\n",
       "      <td>0.496478</td>\n",
       "    </tr>\n",
       "    <tr>\n",
       "      <td>2</td>\n",
       "      <td>Armenia</td>\n",
       "      <td>12809</td>\n",
       "      <td>20579275.0</td>\n",
       "      <td>2.372031</td>\n",
       "    </tr>\n",
       "    <tr>\n",
       "      <td>3</td>\n",
       "      <td>Azerbaijan</td>\n",
       "      <td>4026</td>\n",
       "      <td>6839400.0</td>\n",
       "      <td>0.788330</td>\n",
       "    </tr>\n",
       "    <tr>\n",
       "      <td>4</td>\n",
       "      <td>Belize</td>\n",
       "      <td>98</td>\n",
       "      <td>65450.0</td>\n",
       "      <td>0.007544</td>\n",
       "    </tr>\n",
       "  </tbody>\n",
       "</table>\n",
       "</div>"
      ],
      "text/plain": [
       "  country_name  count  borrowed_amount  loan_amount_perc\n",
       "0  Afghanistan      1           6000.0          0.000692\n",
       "1      Albania   3075        4307350.0          0.496478\n",
       "2      Armenia  12809       20579275.0          2.372031\n",
       "3   Azerbaijan   4026        6839400.0          0.788330\n",
       "4       Belize     98          65450.0          0.007544"
      ]
     },
     "metadata": {},
     "output_type": "display_data"
    }
   ],
   "source": [
    "#Unisco i tre precedenti dataframe. Selezione solo le colonne che non sono duplicate.\n",
    "\n",
    "country_statistics = pd.concat([num_loans_country, tot_borr_country, tot_borr_country_perc], axis=1)\n",
    "\n",
    "print (~country_statistics.columns.duplicated())\n",
    "\n",
    "country_statistics = country_statistics.loc[:, ~country_statistics.columns.duplicated()]\n",
    "\n",
    "display(country_statistics.head())"
   ]
  },
  {
   "cell_type": "markdown",
   "metadata": {},
   "source": [
    "***"
   ]
  },
  {
   "cell_type": "markdown",
   "metadata": {},
   "source": [
    "### 7. Like the three previous points, but split for each year.\n"
   ]
  },
  {
   "cell_type": "code",
   "execution_count": 24,
   "metadata": {
    "ExecuteTime": {
     "end_time": "2020-01-26T12:41:58.266420Z",
     "start_time": "2020-01-26T12:41:57.928323Z"
    }
   },
   "outputs": [],
   "source": [
    "#Converto disburse_time in un formato datetime. Imposto quella colonna come indice.\n",
    "\n",
    "loans_not_null[\"disburse_time\"] =  pd.to_datetime(loans_not_null[\"disburse_time\"])\n",
    "loans_not_null = loans_not_null.set_index(\"disburse_time\")"
   ]
  },
  {
   "cell_type": "code",
   "execution_count": 25,
   "metadata": {
    "ExecuteTime": {
     "end_time": "2020-01-26T12:42:00.115373Z",
     "start_time": "2020-01-26T12:41:58.266420Z"
    }
   },
   "outputs": [],
   "source": [
    "#Eseguo una groupby usando il grouper con freq. pari ad un anno. Applico una sum.\n",
    "\n",
    "loans_by_year_sum = loans_not_null.groupby([\"country_name\", pd.Grouper(freq=\"Y\")])[\"loan_amount\"].sum().to_frame()"
   ]
  },
  {
   "cell_type": "code",
   "execution_count": 26,
   "metadata": {
    "ExecuteTime": {
     "end_time": "2020-01-26T12:42:00.122474Z",
     "start_time": "2020-01-26T12:42:00.118485Z"
    }
   },
   "outputs": [],
   "source": [
    "#display(loans_by_year_sum.head())"
   ]
  },
  {
   "cell_type": "code",
   "execution_count": 27,
   "metadata": {
    "ExecuteTime": {
     "end_time": "2020-01-26T12:42:00.137691Z",
     "start_time": "2020-01-26T12:42:00.123471Z"
    }
   },
   "outputs": [],
   "source": [
    "#Come sopra ma calcolo la percentuale.\n",
    "\n",
    "loans_by_year_perc = loans_by_year_sum\n",
    "loans_by_year_perc[\"loan_amount\"] = loans_by_year_perc[\"loan_amount\"]/lent_tot*100\n",
    "loans_by_year_perc = loans_by_year_perc.rename(columns={\"loan_amount\" : \"loan_amount_perc\"})"
   ]
  },
  {
   "cell_type": "code",
   "execution_count": 28,
   "metadata": {
    "ExecuteTime": {
     "end_time": "2020-01-26T12:42:00.145696Z",
     "start_time": "2020-01-26T12:42:00.139686Z"
    }
   },
   "outputs": [],
   "source": [
    "#display(loans_by_year_perc.head())"
   ]
  },
  {
   "cell_type": "code",
   "execution_count": 29,
   "metadata": {
    "ExecuteTime": {
     "end_time": "2020-01-26T12:42:01.960216Z",
     "start_time": "2020-01-26T12:42:00.147664Z"
    }
   },
   "outputs": [],
   "source": [
    "#Come sopra ma applico un count e rinomino la colonna relativa.\n",
    "\n",
    "loans_by_year_count = loans_not_null.groupby([\"country_name\", pd.Grouper(freq=\"Y\")])[\"loan_id\"].count().to_frame()\n",
    "loans_by_year_count = loans_by_year_count.rename(columns={\"loan_id\" : \"count\"})"
   ]
  },
  {
   "cell_type": "code",
   "execution_count": 30,
   "metadata": {
    "ExecuteTime": {
     "end_time": "2020-01-26T12:42:01.968074Z",
     "start_time": "2020-01-26T12:42:01.960216Z"
    }
   },
   "outputs": [],
   "source": [
    "#display(loans_by_year_count.head())"
   ]
  },
  {
   "cell_type": "markdown",
   "metadata": {},
   "source": [
    "***"
   ]
  },
  {
   "cell_type": "code",
   "execution_count": 31,
   "metadata": {
    "ExecuteTime": {
     "end_time": "2020-01-26T12:42:01.985055Z",
     "start_time": "2020-01-26T12:42:01.970077Z"
    },
    "scrolled": false
   },
   "outputs": [
    {
     "name": "stdout",
     "output_type": "stream",
     "text": [
      "[ True  True  True]\n"
     ]
    },
    {
     "data": {
      "text/html": [
       "<div>\n",
       "<style scoped>\n",
       "    .dataframe tbody tr th:only-of-type {\n",
       "        vertical-align: middle;\n",
       "    }\n",
       "\n",
       "    .dataframe tbody tr th {\n",
       "        vertical-align: top;\n",
       "    }\n",
       "\n",
       "    .dataframe thead th {\n",
       "        text-align: right;\n",
       "    }\n",
       "</style>\n",
       "<table border=\"1\" class=\"dataframe\">\n",
       "  <thead>\n",
       "    <tr style=\"text-align: right;\">\n",
       "      <th></th>\n",
       "      <th></th>\n",
       "      <th>count</th>\n",
       "      <th>loan_amount</th>\n",
       "      <th>loan_amount_perc</th>\n",
       "    </tr>\n",
       "    <tr>\n",
       "      <th>country_name</th>\n",
       "      <th>disburse_time</th>\n",
       "      <th></th>\n",
       "      <th></th>\n",
       "      <th></th>\n",
       "    </tr>\n",
       "  </thead>\n",
       "  <tbody>\n",
       "    <tr>\n",
       "      <td>Afghanistan</td>\n",
       "      <td>2015-12-31 00:00:00+00:00</td>\n",
       "      <td>1</td>\n",
       "      <td>0.000692</td>\n",
       "      <td>0.000692</td>\n",
       "    </tr>\n",
       "    <tr>\n",
       "      <td rowspan=\"4\" valign=\"top\">Albania</td>\n",
       "      <td>2012-12-31 00:00:00+00:00</td>\n",
       "      <td>332</td>\n",
       "      <td>0.047604</td>\n",
       "      <td>0.047604</td>\n",
       "    </tr>\n",
       "    <tr>\n",
       "      <td>2013-12-31 00:00:00+00:00</td>\n",
       "      <td>507</td>\n",
       "      <td>0.090706</td>\n",
       "      <td>0.090706</td>\n",
       "    </tr>\n",
       "    <tr>\n",
       "      <td>2014-12-31 00:00:00+00:00</td>\n",
       "      <td>603</td>\n",
       "      <td>0.104031</td>\n",
       "      <td>0.104031</td>\n",
       "    </tr>\n",
       "    <tr>\n",
       "      <td>2015-12-31 00:00:00+00:00</td>\n",
       "      <td>638</td>\n",
       "      <td>0.097325</td>\n",
       "      <td>0.097325</td>\n",
       "    </tr>\n",
       "  </tbody>\n",
       "</table>\n",
       "</div>"
      ],
      "text/plain": [
       "                                        count  loan_amount  loan_amount_perc\n",
       "country_name disburse_time                                                  \n",
       "Afghanistan  2015-12-31 00:00:00+00:00      1     0.000692          0.000692\n",
       "Albania      2012-12-31 00:00:00+00:00    332     0.047604          0.047604\n",
       "             2013-12-31 00:00:00+00:00    507     0.090706          0.090706\n",
       "             2014-12-31 00:00:00+00:00    603     0.104031          0.104031\n",
       "             2015-12-31 00:00:00+00:00    638     0.097325          0.097325"
      ]
     },
     "metadata": {},
     "output_type": "display_data"
    }
   ],
   "source": [
    "#Unisco i tre precedenti dataframe. Selezione solo le colonne che non sono duplicate.\n",
    "\n",
    "country_statistics_by_year = pd.concat([loans_by_year_count, loans_by_year_sum, loans_by_year_perc], axis=1)\n",
    "\n",
    "print (~country_statistics_by_year.columns.duplicated())\n",
    "\n",
    "country_statistics_by_year = country_statistics_by_year.loc[:, ~country_statistics_by_year.columns.duplicated()]\n",
    "\n",
    "display(country_statistics_by_year.head())"
   ]
  },
  {
   "cell_type": "markdown",
   "metadata": {},
   "source": [
    "***"
   ]
  },
  {
   "cell_type": "markdown",
   "metadata": {},
   "source": [
    "### 8. For each lender, compute the overall amount of money lent."
   ]
  },
  {
   "cell_type": "code",
   "execution_count": 32,
   "metadata": {
    "ExecuteTime": {
     "end_time": "2020-01-26T12:42:04.616927Z",
     "start_time": "2020-01-26T12:42:01.986025Z"
    },
    "scrolled": true
   },
   "outputs": [],
   "source": [
    "#Creo il df \"lenders_num\" che contiene, per ogni loan_id, il numero di lenders coinvolti (lenders_count)\n",
    "\n",
    "lenders_num = loans_lenders_norm.groupby(\"loan_id\").count().reset_index().rename(columns={\"lenders\" : \"lenders_count\"})"
   ]
  },
  {
   "cell_type": "code",
   "execution_count": 33,
   "metadata": {
    "ExecuteTime": {
     "end_time": "2020-01-26T12:42:09.913658Z",
     "start_time": "2020-01-26T12:42:04.616927Z"
    }
   },
   "outputs": [],
   "source": [
    "#Unisco i due dataframe in modo da avere le informazioni: loan_id, numero di lenders coinvolti e loan_amount\n",
    "\n",
    "lenders_num_details = pd.merge(lenders_num, loans_not_null, on=\"loan_id\")[[\"loan_id\", \"lenders_count\", \"loan_amount\"]]"
   ]
  },
  {
   "cell_type": "code",
   "execution_count": 34,
   "metadata": {
    "ExecuteTime": {
     "end_time": "2020-01-26T12:42:09.985997Z",
     "start_time": "2020-01-26T12:42:09.913658Z"
    }
   },
   "outputs": [],
   "source": [
    "#Aggiungo una colonna in cui calcolo l'ammontare per lender, assumendo che tutti abbiano contribuito in egual misura\n",
    "\n",
    "lenders_num_details[\"amount_per_person\"] = lenders_num_details[\"loan_amount\"] / lenders_num_details[\"lenders_count\"]"
   ]
  },
  {
   "cell_type": "code",
   "execution_count": 35,
   "metadata": {
    "ExecuteTime": {
     "end_time": "2020-01-26T12:42:09.990019Z",
     "start_time": "2020-01-26T12:42:09.986997Z"
    }
   },
   "outputs": [],
   "source": [
    "#display(lenders_num_details.head())"
   ]
  },
  {
   "cell_type": "code",
   "execution_count": 36,
   "metadata": {
    "ExecuteTime": {
     "end_time": "2020-01-26T12:42:10.011628Z",
     "start_time": "2020-01-26T12:42:09.991984Z"
    }
   },
   "outputs": [],
   "source": [
    "#display(loans_lenders_norm.head())"
   ]
  },
  {
   "cell_type": "code",
   "execution_count": 37,
   "metadata": {
    "ExecuteTime": {
     "end_time": "2020-01-26T12:42:18.813510Z",
     "start_time": "2020-01-26T12:42:10.011628Z"
    }
   },
   "outputs": [],
   "source": [
    "#Ora unisco loans_lenders_norm e lenders_num_details in modo da avere un df come il loans_lenders_norm originale, ma che abbia una colonna \n",
    "#che indichi il \"amount_per_person\"\n",
    "\n",
    "loans_lenders_merged = pd.merge(loans_lenders_norm, lenders_num_details, on=\"loan_id\", how=\"left\")"
   ]
  },
  {
   "cell_type": "code",
   "execution_count": 38,
   "metadata": {
    "ExecuteTime": {
     "end_time": "2020-01-26T12:42:18.821489Z",
     "start_time": "2020-01-26T12:42:18.816503Z"
    }
   },
   "outputs": [],
   "source": [
    "#display(loans_lenders_merged.head())"
   ]
  },
  {
   "cell_type": "code",
   "execution_count": 39,
   "metadata": {
    "ExecuteTime": {
     "end_time": "2020-01-26T12:42:31.714024Z",
     "start_time": "2020-01-26T12:42:18.823485Z"
    }
   },
   "outputs": [],
   "source": [
    "#Ora raggruppo per lender e sommo, ottenendo il totale prestato da ogni lender.\n",
    "\n",
    "lenders_overall_lent = loans_lenders_merged.groupby(\"lenders\")[\"amount_per_person\"].sum().to_frame().reset_index()"
   ]
  },
  {
   "cell_type": "code",
   "execution_count": 40,
   "metadata": {
    "ExecuteTime": {
     "end_time": "2020-01-26T12:42:31.718981Z",
     "start_time": "2020-01-26T12:42:31.714990Z"
    }
   },
   "outputs": [],
   "source": [
    "#display(lenders_overall_lent.head())"
   ]
  },
  {
   "cell_type": "markdown",
   "metadata": {},
   "source": [
    "### 9. For each country, compute the difference between the overall amount of money lent and the overall amount of money borrowed. Since the country of the lender is often unknown, you can assume that the true distribution among the countries is the same as the one computed from the rows where the country is known.\n"
   ]
  },
  {
   "cell_type": "code",
   "execution_count": 41,
   "metadata": {
    "ExecuteTime": {
     "end_time": "2020-01-26T12:42:34.672561Z",
     "start_time": "2020-01-26T12:42:31.721973Z"
    }
   },
   "outputs": [],
   "source": [
    "#Per prima cosa devo sistemare il dataframe, in modo tale da averlo completo, senza valore Null. \n",
    "#Divido quindi il dataframe in due parti, una con le modalità delle colonne di country conosciuta e una no.\n",
    "#Metodo: Calcolo poi la percentuale delle varie nazionalità nel primo dataframe e le applico in modo randomico al secondo dataframe.\n",
    "#Riunifico poi i due dataframe\n",
    "\n",
    "lenders = pd.read_csv(lenders_path)"
   ]
  },
  {
   "cell_type": "code",
   "execution_count": 42,
   "metadata": {
    "ExecuteTime": {
     "end_time": "2020-01-26T12:42:34.677549Z",
     "start_time": "2020-01-26T12:42:34.673560Z"
    }
   },
   "outputs": [],
   "source": [
    "#display(lenders.head())"
   ]
  },
  {
   "cell_type": "code",
   "execution_count": 43,
   "metadata": {
    "ExecuteTime": {
     "end_time": "2020-01-26T12:42:34.995164Z",
     "start_time": "2020-01-26T12:42:34.679544Z"
    },
    "scrolled": true
   },
   "outputs": [],
   "source": [
    "lenders_notnull = lenders.loc[lenders[\"country_code\"].notnull()].reset_index()                         "
   ]
  },
  {
   "cell_type": "code",
   "execution_count": 44,
   "metadata": {
    "ExecuteTime": {
     "end_time": "2020-01-26T12:42:35.002146Z",
     "start_time": "2020-01-26T12:42:34.998158Z"
    }
   },
   "outputs": [],
   "source": [
    "#display(lenders_notnull.head())"
   ]
  },
  {
   "cell_type": "code",
   "execution_count": 45,
   "metadata": {
    "ExecuteTime": {
     "end_time": "2020-01-26T12:42:35.399115Z",
     "start_time": "2020-01-26T12:42:35.004140Z"
    },
    "scrolled": false
   },
   "outputs": [],
   "source": [
    "lenders_null = lenders.loc[lenders[\"country_code\"].isnull()].reset_index()"
   ]
  },
  {
   "cell_type": "code",
   "execution_count": 46,
   "metadata": {
    "ExecuteTime": {
     "end_time": "2020-01-26T12:42:35.404072Z",
     "start_time": "2020-01-26T12:42:35.400082Z"
    }
   },
   "outputs": [],
   "source": [
    "#display(lenders_null.head())"
   ]
  },
  {
   "cell_type": "code",
   "execution_count": 47,
   "metadata": {
    "ExecuteTime": {
     "end_time": "2020-01-26T12:42:35.410059Z",
     "start_time": "2020-01-26T12:42:35.406066Z"
    }
   },
   "outputs": [
    {
     "name": "stdout",
     "output_type": "stream",
     "text": [
      "890539\n"
     ]
    }
   ],
   "source": [
    "#Calcolo la distribuzione di nazioni nel dataframe lenders_notnull\n",
    "\n",
    "tot_notnull_users = len(lenders_notnull.index)\n",
    "print(tot_notnull_users)"
   ]
  },
  {
   "cell_type": "code",
   "execution_count": 48,
   "metadata": {
    "ExecuteTime": {
     "end_time": "2020-01-26T12:42:35.500843Z",
     "start_time": "2020-01-26T12:42:35.412051Z"
    }
   },
   "outputs": [],
   "source": [
    "#Calcolo la distribuzione delle nazioni nel dataframe lenders_notnull\n",
    "\n",
    "country_ripartition = lenders_notnull[[\"index\", \"country_code\"]].groupby(\"country_code\").count().reset_index().rename(columns = {\"index\":\"n_users\"})\n",
    "country_ripartition[\"percentage\"] = country_ripartition[\"n_users\"]/tot_notnull_users*100"
   ]
  },
  {
   "cell_type": "code",
   "execution_count": 49,
   "metadata": {
    "ExecuteTime": {
     "end_time": "2020-01-26T12:42:35.505799Z",
     "start_time": "2020-01-26T12:42:35.502808Z"
    }
   },
   "outputs": [],
   "source": [
    "#display(country_ripartition.head())"
   ]
  },
  {
   "cell_type": "code",
   "execution_count": 50,
   "metadata": {
    "ExecuteTime": {
     "end_time": "2020-01-26T12:42:35.512807Z",
     "start_time": "2020-01-26T12:42:35.507794Z"
    }
   },
   "outputs": [],
   "source": [
    "#Ora riempio il dataframe lenders_null in modo che abbia la stessa distribuzione di lenders_notnull.\n",
    "#Per fare questo uso la funzione np.random.choice (inserendo come seed '1234')\n",
    "#In questo modo assegno la nazionalità in modo randomico e non sistematico (x. es. partendo dall'alto), ottenendo la distribuzione finale che voglio ottenere\n",
    "#ma per fare questo devo normalizzare le percentuali dividendole per la loro somma, altrimenti otterei l'errore (probabilities do not sum to 1\n",
    "\n",
    "country_ripartition[\"percentage\"] /= country_ripartition[\"percentage\"].sum()"
   ]
  },
  {
   "cell_type": "code",
   "execution_count": 51,
   "metadata": {
    "ExecuteTime": {
     "end_time": "2020-01-26T12:42:35.608523Z",
     "start_time": "2020-01-26T12:42:35.514775Z"
    }
   },
   "outputs": [],
   "source": [
    "#Preseguo\n",
    "\n",
    "np.random.seed(1234)\n",
    "lenders_null[\"country_code\"] = np.random.choice(country_ripartition[\"country_code\"], size=len(lenders_null.index), p = country_ripartition[\"percentage\"])"
   ]
  },
  {
   "cell_type": "code",
   "execution_count": 52,
   "metadata": {
    "ExecuteTime": {
     "end_time": "2020-01-26T12:42:35.612942Z",
     "start_time": "2020-01-26T12:42:35.609973Z"
    }
   },
   "outputs": [],
   "source": [
    "#display(lenders_null.head())"
   ]
  },
  {
   "cell_type": "code",
   "execution_count": 53,
   "metadata": {
    "ExecuteTime": {
     "end_time": "2020-01-26T12:42:37.100957Z",
     "start_time": "2020-01-26T12:42:35.613936Z"
    }
   },
   "outputs": [],
   "source": [
    "#Riunisco i due dataframe nel dataframe originario\n",
    "\n",
    "lenders = pd.concat([lenders_notnull, lenders_null]).drop(columns=\"index\")"
   ]
  },
  {
   "cell_type": "code",
   "execution_count": 54,
   "metadata": {
    "ExecuteTime": {
     "end_time": "2020-01-26T12:42:37.109070Z",
     "start_time": "2020-01-26T12:42:37.102339Z"
    }
   },
   "outputs": [],
   "source": [
    "#display(lenders.head())"
   ]
  },
  {
   "cell_type": "markdown",
   "metadata": {},
   "source": [
    "### Ora che ho il dataframe sistemato, proseguo con il punto 9"
   ]
  },
  {
   "cell_type": "code",
   "execution_count": 55,
   "metadata": {
    "ExecuteTime": {
     "end_time": "2020-01-26T12:42:41.007168Z",
     "start_time": "2020-01-26T12:42:37.111064Z"
    }
   },
   "outputs": [],
   "source": [
    "#Integro i dataframe \"lenders\", il quale ha i nomi dei lenders e la loro nazionalità, e il dataframe \"lenders_overall_lent\" che indica per ogni lender l'ammontare \"lent\"\n",
    "#A quel punto raggruppo per nazionalità e effettuo una somma, ottenendo l'ammontare \"lent\" per ogni nazione\n",
    "#Inserisco queste info nel dataframe \"tot_lent_country\"\n",
    "\n",
    "tot_lent_country = pd.merge(lenders_overall_lent, lenders[[\"permanent_name\", \"country_code\"]], left_on=\"lenders\", right_on=\"permanent_name\").drop(columns=\"permanent_name\").groupby(\"country_code\")[\"amount_per_person\"].sum().to_frame().rename(columns={\"amount_per_person\" : \"lent_amount\"}).reset_index()"
   ]
  },
  {
   "cell_type": "code",
   "execution_count": 56,
   "metadata": {
    "ExecuteTime": {
     "end_time": "2020-01-26T12:42:41.012123Z",
     "start_time": "2020-01-26T12:42:41.008134Z"
    }
   },
   "outputs": [],
   "source": [
    "#display(tot_lent_country.head())"
   ]
  },
  {
   "cell_type": "code",
   "execution_count": 57,
   "metadata": {
    "ExecuteTime": {
     "end_time": "2020-01-26T12:42:41.026114Z",
     "start_time": "2020-01-26T12:42:41.014118Z"
    }
   },
   "outputs": [],
   "source": [
    "#Nel dataframe \"tot_lent_country\" ho indicato il country_code, mentre nel dataframe \"tot_borr_country\" ho il nome della nazione\n",
    "#Devo \"normalizzare\" queste differenze, quindi integro tot_borr_country con \"country_stats\", in modo da avere anche lì il country code\n",
    "\n",
    "country_stats = pd.read_csv(country_stats_path)\n",
    "tot_borr_country = pd.merge(tot_borr_country, country_stats[[\"country_name\", \"country_code\"]], on=\"country_name\")"
   ]
  },
  {
   "cell_type": "code",
   "execution_count": 58,
   "metadata": {
    "ExecuteTime": {
     "end_time": "2020-01-26T12:42:41.031072Z",
     "start_time": "2020-01-26T12:42:41.027083Z"
    },
    "scrolled": true
   },
   "outputs": [],
   "source": [
    "#display(tot_borr_country.head())"
   ]
  },
  {
   "cell_type": "code",
   "execution_count": 59,
   "metadata": {
    "ExecuteTime": {
     "end_time": "2020-01-26T12:42:41.042046Z",
     "start_time": "2020-01-26T12:42:41.032069Z"
    }
   },
   "outputs": [],
   "source": [
    "#Ora creo un df che contenga l'ammontare di denaro \"lent\" e \"borrowed\" per ogni nazione\n",
    "#Devo quindi fare una merge tra tot_lent_country e tot_borr_country\n",
    "\n",
    "country_lent_borr = pd.merge(tot_lent_country, tot_borr_country, on=\"country_code\")\n",
    "country_lent_borr = country_lent_borr[[\"country_name\", \"country_code\", \"lent_amount\", \"borrowed_amount\"]]"
   ]
  },
  {
   "cell_type": "code",
   "execution_count": 60,
   "metadata": {
    "ExecuteTime": {
     "end_time": "2020-01-26T12:42:41.048517Z",
     "start_time": "2020-01-26T12:42:41.043556Z"
    }
   },
   "outputs": [],
   "source": [
    "#Calcolo la differenza tra il totale presentato e il totale ricevuto\n",
    "\n",
    "country_lent_borr[\"difference\"] = (country_lent_borr[\"lent_amount\"] - country_lent_borr[\"borrowed_amount\"])"
   ]
  },
  {
   "cell_type": "code",
   "execution_count": 61,
   "metadata": {
    "ExecuteTime": {
     "end_time": "2020-01-26T12:42:41.056497Z",
     "start_time": "2020-01-26T12:42:41.049530Z"
    }
   },
   "outputs": [],
   "source": [
    "#display(country_lent_borr.head())"
   ]
  },
  {
   "cell_type": "markdown",
   "metadata": {},
   "source": [
    "### 10. Which country has the highest ratio between the difference computed at the previous point and the population?\n"
   ]
  },
  {
   "cell_type": "code",
   "execution_count": 62,
   "metadata": {
    "ExecuteTime": {
     "end_time": "2020-01-26T12:42:41.066497Z",
     "start_time": "2020-01-26T12:42:41.058493Z"
    }
   },
   "outputs": [],
   "source": [
    "#Per risolvere questo punto devo integrare il df country_lent_borr con info circa la popolazione, che ho nel df country_stats\n",
    "#Quindi integro facendo una merge.\n",
    "\n",
    "country_lent_borr  = pd.merge(country_lent_borr, country_stats[[\"country_code\", \"population\"]], on=\"country_code\")"
   ]
  },
  {
   "cell_type": "code",
   "execution_count": 63,
   "metadata": {
    "ExecuteTime": {
     "end_time": "2020-01-26T12:42:41.073237Z",
     "start_time": "2020-01-26T12:42:41.067467Z"
    }
   },
   "outputs": [],
   "source": [
    "#Calcolo il ratio, inserendolo in una colonna apposita\n",
    "\n",
    "country_lent_borr[\"ratio\"] = country_lent_borr[\"difference\"]/country_lent_borr[\"population\"]"
   ]
  },
  {
   "cell_type": "code",
   "execution_count": 64,
   "metadata": {
    "ExecuteTime": {
     "end_time": "2020-01-26T12:42:41.087173Z",
     "start_time": "2020-01-26T12:42:41.075204Z"
    },
    "scrolled": true
   },
   "outputs": [
    {
     "data": {
      "text/html": [
       "<div>\n",
       "<style scoped>\n",
       "    .dataframe tbody tr th:only-of-type {\n",
       "        vertical-align: middle;\n",
       "    }\n",
       "\n",
       "    .dataframe tbody tr th {\n",
       "        vertical-align: top;\n",
       "    }\n",
       "\n",
       "    .dataframe thead th {\n",
       "        text-align: right;\n",
       "    }\n",
       "</style>\n",
       "<table border=\"1\" class=\"dataframe\">\n",
       "  <thead>\n",
       "    <tr style=\"text-align: right;\">\n",
       "      <th></th>\n",
       "      <th>country_name</th>\n",
       "      <th>country_code</th>\n",
       "      <th>lent_amount</th>\n",
       "      <th>borrowed_amount</th>\n",
       "      <th>difference</th>\n",
       "      <th>population</th>\n",
       "      <th>ratio</th>\n",
       "    </tr>\n",
       "  </thead>\n",
       "  <tbody>\n",
       "    <tr>\n",
       "      <td>68</td>\n",
       "      <td>United States</td>\n",
       "      <td>US</td>\n",
       "      <td>5.195966e+08</td>\n",
       "      <td>28216050.0</td>\n",
       "      <td>4.913805e+08</td>\n",
       "      <td>324459463</td>\n",
       "      <td>1.514459</td>\n",
       "    </tr>\n",
       "  </tbody>\n",
       "</table>\n",
       "</div>"
      ],
      "text/plain": [
       "     country_name country_code   lent_amount  borrowed_amount    difference  \\\n",
       "68  United States           US  5.195966e+08       28216050.0  4.913805e+08   \n",
       "\n",
       "    population     ratio  \n",
       "68   324459463  1.514459  "
      ]
     },
     "execution_count": 64,
     "metadata": {},
     "output_type": "execute_result"
    }
   ],
   "source": [
    "#Trovo la riga che corrisponde al massimo valore di ratio\n",
    "\n",
    "country_lent_borr[country_lent_borr['ratio']==country_lent_borr['ratio'].max()]"
   ]
  },
  {
   "cell_type": "markdown",
   "metadata": {},
   "source": [
    "### 11. Which country has the highest ratio between the difference computed at point 9 and the population that is not below the poverty line?\n"
   ]
  },
  {
   "cell_type": "code",
   "execution_count": 65,
   "metadata": {
    "ExecuteTime": {
     "end_time": "2020-01-26T12:42:41.094154Z",
     "start_time": "2020-01-26T12:42:41.089167Z"
    },
    "scrolled": true
   },
   "outputs": [],
   "source": [
    "#Il problema principale è che \"population_below_poverty_line\" presenta valori nulli, rendendo impossibile la soluzione del punto\n",
    "#Potrei riempire i valori mancanti di \"population_below_poverty_line\" con la media dei valori della colonna, facendo così:\n",
    "#country_stats[\"population_below_poverty_line\"] = country_stats[\"population_below_poverty_line\"].fillna(country_stats[\"population_below_poverty_line\"].mean())\n",
    "\n",
    "#Mantengo l'approccio conservativo che ho seguito fino ad ora e seleziono solo le countries che non hanno nan in quella colonna\n",
    "\n",
    "country_stats_not_null = country_stats[country_stats[\"population_below_poverty_line\"].isnull() == False]"
   ]
  },
  {
   "cell_type": "code",
   "execution_count": 66,
   "metadata": {
    "ExecuteTime": {
     "end_time": "2020-01-26T12:42:41.101135Z",
     "start_time": "2020-01-26T12:42:41.096149Z"
    },
    "scrolled": true
   },
   "outputs": [],
   "source": [
    "#Calcolo le persone al di sopra della linea di povertà, aggiungendole ad una colonna\n",
    "\n",
    "pd.options.mode.chained_assignment = None #warning non necessario\n",
    "country_stats_not_null[\"population_above_poverty_line\"] = (country_stats_not_null[\"population\"] -(country_stats_not_null[\"population\"]*country_stats_not_null[\"population_below_poverty_line\"]/100))"
   ]
  },
  {
   "cell_type": "code",
   "execution_count": 67,
   "metadata": {
    "ExecuteTime": {
     "end_time": "2020-01-26T12:42:41.108116Z",
     "start_time": "2020-01-26T12:42:41.104128Z"
    }
   },
   "outputs": [],
   "source": [
    "#display(country_stats_not_null.head())"
   ]
  },
  {
   "cell_type": "code",
   "execution_count": 68,
   "metadata": {
    "ExecuteTime": {
     "end_time": "2020-01-26T12:42:41.123076Z",
     "start_time": "2020-01-26T12:42:41.114100Z"
    }
   },
   "outputs": [],
   "source": [
    "#A questo punto aggiungo il dato \"population_above_poverty_line\" al df country_lent_borr.\n",
    "#Nota bene: sto eseguendo una merge inner, per cui nel df saranno presenti solo le righe, e quindi le nazioni, che hanno il dato\n",
    "#...population_above_poverty_line non nullo!\n",
    "\n",
    "country_lent_borr  = pd.merge(country_lent_borr, country_stats_not_null[[\"country_code\", \"population_above_poverty_line\"]], on=\"country_code\")"
   ]
  },
  {
   "cell_type": "code",
   "execution_count": 69,
   "metadata": {
    "ExecuteTime": {
     "end_time": "2020-01-26T12:42:41.129060Z",
     "start_time": "2020-01-26T12:42:41.125071Z"
    }
   },
   "outputs": [],
   "source": [
    "#Calcolo il ratio (sopra linea di povertà), inserendolo in una colonna apposita\n",
    "\n",
    "country_lent_borr[\"ratio_above_poverty\"] = country_lent_borr[\"difference\"]/country_lent_borr[\"population_above_poverty_line\"]"
   ]
  },
  {
   "cell_type": "code",
   "execution_count": 70,
   "metadata": {
    "ExecuteTime": {
     "end_time": "2020-01-26T12:42:41.143023Z",
     "start_time": "2020-01-26T12:42:41.130057Z"
    }
   },
   "outputs": [
    {
     "data": {
      "text/html": [
       "<div>\n",
       "<style scoped>\n",
       "    .dataframe tbody tr th:only-of-type {\n",
       "        vertical-align: middle;\n",
       "    }\n",
       "\n",
       "    .dataframe tbody tr th {\n",
       "        vertical-align: top;\n",
       "    }\n",
       "\n",
       "    .dataframe thead th {\n",
       "        text-align: right;\n",
       "    }\n",
       "</style>\n",
       "<table border=\"1\" class=\"dataframe\">\n",
       "  <thead>\n",
       "    <tr style=\"text-align: right;\">\n",
       "      <th></th>\n",
       "      <th>country_name</th>\n",
       "      <th>country_code</th>\n",
       "      <th>lent_amount</th>\n",
       "      <th>borrowed_amount</th>\n",
       "      <th>difference</th>\n",
       "      <th>population</th>\n",
       "      <th>ratio</th>\n",
       "      <th>population_above_poverty_line</th>\n",
       "      <th>ratio_above_poverty</th>\n",
       "    </tr>\n",
       "  </thead>\n",
       "  <tbody>\n",
       "    <tr>\n",
       "      <td>64</td>\n",
       "      <td>United States</td>\n",
       "      <td>US</td>\n",
       "      <td>5.195966e+08</td>\n",
       "      <td>28216050.0</td>\n",
       "      <td>4.913805e+08</td>\n",
       "      <td>324459463</td>\n",
       "      <td>1.514459</td>\n",
       "      <td>2.754661e+08</td>\n",
       "      <td>1.783815</td>\n",
       "    </tr>\n",
       "  </tbody>\n",
       "</table>\n",
       "</div>"
      ],
      "text/plain": [
       "     country_name country_code   lent_amount  borrowed_amount    difference  \\\n",
       "64  United States           US  5.195966e+08       28216050.0  4.913805e+08   \n",
       "\n",
       "    population     ratio  population_above_poverty_line  ratio_above_poverty  \n",
       "64   324459463  1.514459                   2.754661e+08             1.783815  "
      ]
     },
     "execution_count": 70,
     "metadata": {},
     "output_type": "execute_result"
    }
   ],
   "source": [
    "#Trovo la riga che corrisponde al massimo valore di ratio_above_poverty\n",
    "\n",
    "country_lent_borr[country_lent_borr['ratio_above_poverty']==country_lent_borr['ratio_above_poverty'].max()]"
   ]
  },
  {
   "cell_type": "markdown",
   "metadata": {},
   "source": [
    "### 12. For each year, compute the total amount of loans. Each loan that has planned expiration time and disburse time in different years must have its amount distributed proportionally to the number of days in each year. \n"
   ]
  },
  {
   "cell_type": "code",
   "execution_count": 71,
   "metadata": {
    "ExecuteTime": {
     "end_time": "2020-01-26T12:42:41.733037Z",
     "start_time": "2020-01-26T12:42:41.144020Z"
    }
   },
   "outputs": [],
   "source": [
    "#Resetto l'indice\n",
    "\n",
    "loans_not_null = loans_not_null.reset_index()"
   ]
  },
  {
   "cell_type": "code",
   "execution_count": 72,
   "metadata": {
    "ExecuteTime": {
     "end_time": "2020-01-26T12:42:41.772930Z",
     "start_time": "2020-01-26T12:42:41.735032Z"
    }
   },
   "outputs": [],
   "source": [
    "#Rimuovo il fuso orario e le ore per facilitare i calcoli successivi tra date ed evitare errori\n",
    "\n",
    "loans_not_null[\"disburse_time\"] = loans_not_null[\"disburse_time\"].dt.tz_localize(None)\n",
    "loans_not_null[\"planned_expiration_time\"] = loans_not_null[\"planned_expiration_time\"].dt.tz_localize(None)"
   ]
  },
  {
   "cell_type": "code",
   "execution_count": 73,
   "metadata": {
    "ExecuteTime": {
     "end_time": "2020-01-26T12:42:41.881641Z",
     "start_time": "2020-01-26T12:42:41.773927Z"
    }
   },
   "outputs": [],
   "source": [
    "loans_not_null[\"disburse_time\"] = loans_not_null[\"disburse_time\"].dt.normalize()\n",
    "loans_not_null[\"planned_expiration_time\"] = loans_not_null[\"planned_expiration_time\"].dt.normalize()"
   ]
  },
  {
   "cell_type": "markdown",
   "metadata": {},
   "source": [
    "***"
   ]
  },
  {
   "cell_type": "code",
   "execution_count": 74,
   "metadata": {
    "ExecuteTime": {
     "end_time": "2020-01-26T12:42:42.679910Z",
     "start_time": "2020-01-26T12:42:41.882641Z"
    }
   },
   "outputs": [],
   "source": [
    "#Divido loans in loans_same_year (disburse e expiration hanno lo stesso anno) e loans_diff_year\n",
    "\n",
    "loans_same_year= loans_not_null[loans_not_null[\"disburse_time\"].dt.year == loans_not_null[\"planned_expiration_time\"].dt.year][[\"loan_id\" , \"disburse_time\", \"planned_expiration_time\",\"loan_amount\"]]\n",
    "loans_diff_year = loans_not_null[loans_not_null[\"disburse_time\"].dt.year != loans_not_null[\"planned_expiration_time\"].dt.year][[\"loan_id\" ,\"disburse_time\", \"planned_expiration_time\",\"loan_amount\"]]"
   ]
  },
  {
   "cell_type": "code",
   "execution_count": 75,
   "metadata": {
    "ExecuteTime": {
     "end_time": "2020-01-26T12:42:42.684898Z",
     "start_time": "2020-01-26T12:42:42.680907Z"
    }
   },
   "outputs": [],
   "source": [
    "#Un modo di procedere è quello di creare due funzioni, una per loans_same_year e una per loans_diff_year che calcolino l'ammontare della loan relativa ad ogni anno\n",
    "#Si va poi a sommare tutti gli ammontare.\n",
    "\n",
    "#Creo un dataframe vuoto che andrò a riempire successivamente, le cui colonne corrispondono agli anni. \n",
    "#Gli anni vanno da __ a ___ :\n",
    "\n",
    "#years_min_max = [loans[\"planned_expiration_time\"].max().year, loans[\"planned_expiration_time\"].min().year,\n",
    "#                 loans[\"disburse_time\"].max().year, loans[\"disburse_time\"].min().year]\n",
    "#print(max(years_min_max), min(years_min_max))\n",
    "\n",
    "#year_amount = pd.DataFrame(0, index=[0], columns=[\"2011\", \"2012\", \"2013\", \"2014\", \"2015\", \"2016\", \"2017\", \"2018\"])\n",
    "\n",
    "#def loan_func_same_years(df):  \n",
    "#    year_amount.iloc[0][df[\"disburse_time\"].strftime(\"%Y\")] += df[\"loan_amount\"]\n",
    "\n",
    "#def loan_func_diff_years(df):  \n",
    "#    completed_loop=0\n",
    "#    start_date = df.disburse_time\n",
    "#    exp_date = df.planned_expiration_time\n",
    "#    year = [df[\"disburse_time\"].strftime(\"%Y\")]\n",
    "#    tot_days = (exp_date - start_date).days+1\n",
    "#   year_amount[year] += (df.loan_amount*((datetime.datetime(start_date.year, 12, 31) - start_date).days+1) / (tot_days))\n",
    "#    start_date = datetime.datetime(start_date.year+1, 1, 1)\n",
    "#    year = [start_date.strftime(\"%Y\")]\n",
    "#    while completed_loop != 1:\n",
    "#        if start_date.year == exp_date.year:\n",
    "#                year_amount[year] += (df.loan_amount*(exp_date - start_date).days+1) / (tot_days)\n",
    "#                completed_loop=1\n",
    "#        else:\n",
    "#                year_amount[year] += (df.loan_amount*(datetime.datetime(start_date.year, 12, 31) - start_date).days+1) / (tot_days)\n",
    "#                start_date = datetime.datetime(start_date.year+1, 1, 1)\n",
    "#                year = [start_date.strftime(\"%Y\")]\n",
    "    \n",
    "# Applico le due funzioni rispettivamente, e stampo il risultato:\n",
    "\n",
    "#loans_same_year.apply(loan_func_same_years, axis=1)\n",
    "#loans_diff_year.apply(loan_func_diff_years, axis=1)\n",
    "#print(year_amount)\n",
    "\n",
    "#Questo metodo però è particolarmente dispensioso e lento, in quanto usa dei cicli particolarmente pesanti"
   ]
  },
  {
   "cell_type": "code",
   "execution_count": 76,
   "metadata": {
    "ExecuteTime": {
     "end_time": "2020-01-26T12:42:42.691881Z",
     "start_time": "2020-01-26T12:42:42.686893Z"
    }
   },
   "outputs": [],
   "source": [
    "#Un modo migliore consiste nel vettorizzare (almeno in gran parte) il processo. \n",
    "#Divido loans in loans_same_year (disburse e expiration hanno lo stesso anno) e loans_diff_year\n",
    "\n",
    "#Ora considero loans_diff_year\n",
    "#Voglio quindi passare da questo:\n",
    "\n",
    "#Loan_id\tLoan_amount    Disburse_time\tPlanned_Expiration\n",
    "#ID 1 \t    5000           2015/11/12    \t2017/3/4 \n",
    "\n",
    "#a questo:\n",
    "\n",
    "#Loan_id    Loan_amount \tDisburse_time  \tStart_date\tEnd_year_date\tPlanned_expiration\tDays_to_end\t    Tot_days\n",
    "#ID 1\t5000                2015/11/12  \t2015/1/1\t2015/12/31\t    2017/3/4 \t        days_to_end \ttot_days\n",
    "#ID 1 \t5000                2015/11/12  \t2016/1/1  \t2016/12/31\t    2017/3/4   \t        days_to_end \ttot_days\n",
    "#ID 1\t5000                2015/11/12  \t2017/1/1  \t2017/12/31\t    2017/3/4   \t        Days_to_end\t    tot_days\n",
    "\n",
    "#In cui start_date e end_date sono delle colonne che mi servono per calcolare due dati importanti:\n",
    "#1) days_to_end: sono i giorni di durata del loan divisi per anno di appartenenza\n",
    "#2) tot_days: sono i giorni totali.\n",
    "#In questo modo ho diviso i giorni totali nei vari anni di durata del loan. \n",
    "\n",
    "#Una soluzione di questo tipo si scontra con il principio di atomicità dei dati ma rende la soluzione del problema più veloce\n",
    "#e meno dispendiosa dal punto di vista computazionale. Per questo motivo, questa va preferita all'altra soluzione."
   ]
  },
  {
   "cell_type": "code",
   "execution_count": 77,
   "metadata": {
    "ExecuteTime": {
     "end_time": "2020-01-26T12:42:42.695876Z",
     "start_time": "2020-01-26T12:42:42.693874Z"
    }
   },
   "outputs": [],
   "source": [
    "#Procedo ad applicare quanto scritto sopra"
   ]
  },
  {
   "cell_type": "code",
   "execution_count": 78,
   "metadata": {
    "ExecuteTime": {
     "end_time": "2020-01-26T12:42:42.759697Z",
     "start_time": "2020-01-26T12:42:42.696866Z"
    }
   },
   "outputs": [],
   "source": [
    "#Ripeto le righe n=(anni di durata+1) volte, seguendo la logica di cui sopra\n",
    "\n",
    "loans_diff_year = loans_diff_year.loc[loans_diff_year.index.repeat(loans_diff_year.planned_expiration_time.dt.year - loans_diff_year.disburse_time.dt.year + 1)]"
   ]
  },
  {
   "cell_type": "code",
   "execution_count": 79,
   "metadata": {
    "ExecuteTime": {
     "end_time": "2020-01-26T12:42:42.923036Z",
     "start_time": "2020-01-26T12:42:42.760695Z"
    }
   },
   "outputs": [],
   "source": [
    "#Creo la colonna start_time\n",
    "\n",
    "loans_diff_year[\"start_time\"] = loans_diff_year.drop_duplicates()[\"disburse_time\"].dt.year.apply(lambda x: datetime.datetime(x, 1, 1)) "
   ]
  },
  {
   "cell_type": "code",
   "execution_count": 80,
   "metadata": {
    "ExecuteTime": {
     "end_time": "2020-01-26T12:42:43.046111Z",
     "start_time": "2020-01-26T12:42:42.924408Z"
    }
   },
   "outputs": [],
   "source": [
    "#Vado a modificarla incrementando di un anno ogni volta che la riga si ripete, per ottenere il dataframe che mi serve \n",
    "\n",
    "y = loans_diff_year[\"disburse_time\"].dt.year\n",
    "loans_diff_year[\"start_time\"] = pd.to_datetime(loans_diff_year.groupby(loans_diff_year[\"loan_id\"]).cumcount() + y, format='%Y')"
   ]
  },
  {
   "cell_type": "code",
   "execution_count": 81,
   "metadata": {
    "ExecuteTime": {
     "end_time": "2020-01-26T12:42:43.131931Z",
     "start_time": "2020-01-26T12:42:43.047084Z"
    }
   },
   "outputs": [],
   "source": [
    "#Creo end_time e la popolo similmente a start_time\n",
    "\n",
    "loans_diff_year[\"end_time\"] = pd.to_datetime(loans_diff_year.groupby(loans_diff_year[\"loan_id\"]).cumcount() + y, format='%Y')"
   ]
  },
  {
   "cell_type": "code",
   "execution_count": 82,
   "metadata": {
    "ExecuteTime": {
     "end_time": "2020-01-26T12:42:43.301424Z",
     "start_time": "2020-01-26T12:42:43.132854Z"
    }
   },
   "outputs": [],
   "source": [
    "loans_diff_year[\"end_time\"] = loans_diff_year[\"start_time\"].dt.year.apply(lambda x: datetime.datetime(x, 12, 31)) "
   ]
  },
  {
   "cell_type": "code",
   "execution_count": 83,
   "metadata": {
    "ExecuteTime": {
     "end_time": "2020-01-26T12:42:43.307390Z",
     "start_time": "2020-01-26T12:42:43.303399Z"
    }
   },
   "outputs": [],
   "source": [
    "#Ora voglio calcolare i days_to_end senza dover applicare una logica come la seguente. \n",
    "\n",
    "#def func(df):\n",
    "#    if df[\"planned_expiration_time\"].year > df[\"end_time\"].year:  \n",
    "#        if df[\"disburse_time\"].year == df[\"start_time\"].year:\n",
    "#            df[\"days_to_end\"] = (df[\"end_time\"] - df[\"disburse_time\"]).days\n",
    "#        else: \n",
    "#            df[\"days_to_end\"] = (df[\"end_time\"] - df[\"start_time\"]).days\n",
    "#    elif df[\"planned_expiration_time\"].year == df[\"end_time\"].year:\n",
    "#        df[\"days_to_end\"] = (df[\"planned_expiration_time\"] - df[\"start_time\"]).days\n",
    "\n",
    "#Posso fare così:\n",
    "\n",
    "#df.loc[condizioni, \"days_to_end\"] = assegno valore"
   ]
  },
  {
   "cell_type": "code",
   "execution_count": 84,
   "metadata": {
    "ExecuteTime": {
     "end_time": "2020-01-26T12:42:43.335312Z",
     "start_time": "2020-01-26T12:42:43.309382Z"
    }
   },
   "outputs": [],
   "source": [
    "#Prima resetto l'indice\n",
    "\n",
    "loans_diff_year = loans_diff_year.reset_index()"
   ]
  },
  {
   "cell_type": "code",
   "execution_count": 85,
   "metadata": {
    "ExecuteTime": {
     "end_time": "2020-01-26T12:42:43.477782Z",
     "start_time": "2020-01-26T12:42:43.337309Z"
    },
    "scrolled": false
   },
   "outputs": [],
   "source": [
    "#Implemento la logica che ho descritto poco sopra\n",
    "\n",
    "loans_diff_year.loc[(loans_diff_year[\"planned_expiration_time\"].dt.year > loans_diff_year[\"end_time\"].dt.year) & (loans_diff_year[\"disburse_time\"].dt.year == loans_diff_year[\"start_time\"].dt.year), \"days_to_end\"] = (loans_diff_year[\"end_time\"] - loans_diff_year[\"disburse_time\"]).dt.days +1                                                "
   ]
  },
  {
   "cell_type": "code",
   "execution_count": 86,
   "metadata": {
    "ExecuteTime": {
     "end_time": "2020-01-26T12:42:43.591731Z",
     "start_time": "2020-01-26T12:42:43.479779Z"
    }
   },
   "outputs": [],
   "source": [
    "#Implemento la logica che ho descritto poco sopra\n",
    "\n",
    "loans_diff_year.loc[(loans_diff_year[\"planned_expiration_time\"].dt.year > loans_diff_year[\"end_time\"].dt.year) & (loans_diff_year[\"disburse_time\"].dt.year != loans_diff_year[\"start_time\"].dt.year), \"days_to_end\"] = (loans_diff_year[\"end_time\"] - loans_diff_year[\"start_time\"]).dt.days +1                                           "
   ]
  },
  {
   "cell_type": "code",
   "execution_count": 87,
   "metadata": {
    "ExecuteTime": {
     "end_time": "2020-01-26T12:42:43.670566Z",
     "start_time": "2020-01-26T12:42:43.592700Z"
    }
   },
   "outputs": [],
   "source": [
    "#Implemento la logica che ho descritto poco sopra\n",
    "\n",
    "loans_diff_year.loc[(loans_diff_year[\"planned_expiration_time\"].dt.year == loans_diff_year[\"end_time\"].dt.year), \"days_to_end\"] = (loans_diff_year[\"planned_expiration_time\"] - loans_diff_year[\"start_time\"]).dt.days +1    "
   ]
  },
  {
   "cell_type": "code",
   "execution_count": 88,
   "metadata": {
    "ExecuteTime": {
     "end_time": "2020-01-26T12:42:43.675479Z",
     "start_time": "2020-01-26T12:42:43.671489Z"
    }
   },
   "outputs": [],
   "source": [
    "#display(loans_diff_year.head())"
   ]
  },
  {
   "cell_type": "code",
   "execution_count": 89,
   "metadata": {
    "ExecuteTime": {
     "end_time": "2020-01-26T12:42:43.701924Z",
     "start_time": "2020-01-26T12:42:43.677473Z"
    }
   },
   "outputs": [],
   "source": [
    "#Calcolo tot_days\n",
    "\n",
    "loans_diff_year[\"tot_days\"] = (loans_diff_year[\"planned_expiration_time\"] - loans_diff_year[\"disburse_time\"]).dt.days +1            "
   ]
  },
  {
   "cell_type": "code",
   "execution_count": 90,
   "metadata": {
    "ExecuteTime": {
     "end_time": "2020-01-26T12:42:43.717540Z",
     "start_time": "2020-01-26T12:42:43.701924Z"
    }
   },
   "outputs": [],
   "source": [
    "#Calcolo loan_amount_per_year secondo l'equazione presente nel punto 12 del progetto)\n",
    "\n",
    "loans_diff_year[\"loan_amount_per_year\"] = (loans_diff_year[\"loan_amount\"]* loans_diff_year[\"days_to_end\"])/loans_diff_year[\"tot_days\"]"
   ]
  },
  {
   "cell_type": "code",
   "execution_count": 91,
   "metadata": {
    "ExecuteTime": {
     "end_time": "2020-01-26T12:42:43.770491Z",
     "start_time": "2020-01-26T12:42:43.717540Z"
    }
   },
   "outputs": [
    {
     "data": {
      "text/html": [
       "<div>\n",
       "<style scoped>\n",
       "    .dataframe tbody tr th:only-of-type {\n",
       "        vertical-align: middle;\n",
       "    }\n",
       "\n",
       "    .dataframe tbody tr th {\n",
       "        vertical-align: top;\n",
       "    }\n",
       "\n",
       "    .dataframe thead th {\n",
       "        text-align: right;\n",
       "    }\n",
       "</style>\n",
       "<table border=\"1\" class=\"dataframe\">\n",
       "  <thead>\n",
       "    <tr style=\"text-align: right;\">\n",
       "      <th></th>\n",
       "      <th>start_time</th>\n",
       "      <th>loan_amount_per_year</th>\n",
       "    </tr>\n",
       "  </thead>\n",
       "  <tbody>\n",
       "    <tr>\n",
       "      <td>0</td>\n",
       "      <td>2011</td>\n",
       "      <td>6.614928e+05</td>\n",
       "    </tr>\n",
       "    <tr>\n",
       "      <td>1</td>\n",
       "      <td>2012</td>\n",
       "      <td>9.251024e+06</td>\n",
       "    </tr>\n",
       "    <tr>\n",
       "      <td>2</td>\n",
       "      <td>2013</td>\n",
       "      <td>2.512557e+07</td>\n",
       "    </tr>\n",
       "    <tr>\n",
       "      <td>3</td>\n",
       "      <td>2014</td>\n",
       "      <td>3.001850e+07</td>\n",
       "    </tr>\n",
       "    <tr>\n",
       "      <td>4</td>\n",
       "      <td>2015</td>\n",
       "      <td>2.394231e+07</td>\n",
       "    </tr>\n",
       "    <tr>\n",
       "      <td>5</td>\n",
       "      <td>2016</td>\n",
       "      <td>2.081552e+07</td>\n",
       "    </tr>\n",
       "    <tr>\n",
       "      <td>6</td>\n",
       "      <td>2017</td>\n",
       "      <td>2.046922e+07</td>\n",
       "    </tr>\n",
       "    <tr>\n",
       "      <td>7</td>\n",
       "      <td>2018</td>\n",
       "      <td>4.877086e+06</td>\n",
       "    </tr>\n",
       "  </tbody>\n",
       "</table>\n",
       "</div>"
      ],
      "text/plain": [
       "   start_time  loan_amount_per_year\n",
       "0        2011          6.614928e+05\n",
       "1        2012          9.251024e+06\n",
       "2        2013          2.512557e+07\n",
       "3        2014          3.001850e+07\n",
       "4        2015          2.394231e+07\n",
       "5        2016          2.081552e+07\n",
       "6        2017          2.046922e+07\n",
       "7        2018          4.877086e+06"
      ]
     },
     "metadata": {},
     "output_type": "display_data"
    }
   ],
   "source": [
    "#Creo un nuovo dataframe sommando le somme di loan_amount_per_year raggruppandole per l'anno di appartenenza\n",
    "\n",
    "loans_diff_year_tot = loans_diff_year.groupby(loans_diff_year[\"start_time\"].dt.year)[\"loan_amount_per_year\"].sum().to_frame().reset_index()\n",
    "display(loans_diff_year_tot)"
   ]
  },
  {
   "cell_type": "code",
   "execution_count": 92,
   "metadata": {
    "ExecuteTime": {
     "end_time": "2020-01-26T12:42:43.863238Z",
     "start_time": "2020-01-26T12:42:43.772455Z"
    },
    "scrolled": true
   },
   "outputs": [
    {
     "data": {
      "text/html": [
       "<div>\n",
       "<style scoped>\n",
       "    .dataframe tbody tr th:only-of-type {\n",
       "        vertical-align: middle;\n",
       "    }\n",
       "\n",
       "    .dataframe tbody tr th {\n",
       "        vertical-align: top;\n",
       "    }\n",
       "\n",
       "    .dataframe thead th {\n",
       "        text-align: right;\n",
       "    }\n",
       "</style>\n",
       "<table border=\"1\" class=\"dataframe\">\n",
       "  <thead>\n",
       "    <tr style=\"text-align: right;\">\n",
       "      <th></th>\n",
       "      <th>disburse_time</th>\n",
       "      <th>loan_amount</th>\n",
       "    </tr>\n",
       "  </thead>\n",
       "  <tbody>\n",
       "    <tr>\n",
       "      <td>0</td>\n",
       "      <td>2012</td>\n",
       "      <td>103911725.0</td>\n",
       "    </tr>\n",
       "    <tr>\n",
       "      <td>1</td>\n",
       "      <td>2013</td>\n",
       "      <td>98427750.0</td>\n",
       "    </tr>\n",
       "    <tr>\n",
       "      <td>2</td>\n",
       "      <td>2014</td>\n",
       "      <td>120644250.0</td>\n",
       "    </tr>\n",
       "    <tr>\n",
       "      <td>3</td>\n",
       "      <td>2015</td>\n",
       "      <td>131208475.0</td>\n",
       "    </tr>\n",
       "    <tr>\n",
       "      <td>4</td>\n",
       "      <td>2016</td>\n",
       "      <td>133271575.0</td>\n",
       "    </tr>\n",
       "    <tr>\n",
       "      <td>5</td>\n",
       "      <td>2017</td>\n",
       "      <td>144870625.0</td>\n",
       "    </tr>\n",
       "    <tr>\n",
       "      <td>6</td>\n",
       "      <td>2018</td>\n",
       "      <td>85300.0</td>\n",
       "    </tr>\n",
       "  </tbody>\n",
       "</table>\n",
       "</div>"
      ],
      "text/plain": [
       "   disburse_time  loan_amount\n",
       "0           2012  103911725.0\n",
       "1           2013   98427750.0\n",
       "2           2014  120644250.0\n",
       "3           2015  131208475.0\n",
       "4           2016  133271575.0\n",
       "5           2017  144870625.0\n",
       "6           2018      85300.0"
      ]
     },
     "metadata": {},
     "output_type": "display_data"
    }
   ],
   "source": [
    "#Creo un nuovo dataframe sommando le somme di loan_amount_per_year_same raggruppandole per l'anno di appartenenza\n",
    "#Come prima ma per loans_same_year\n",
    "\n",
    "loans_same_year_tot = loans_same_year.groupby(loans_same_year[\"disburse_time\"].dt.year)[\"loan_amount\"].sum().to_frame().reset_index()\n",
    "display(loans_same_year_tot)"
   ]
  },
  {
   "cell_type": "code",
   "execution_count": 93,
   "metadata": {
    "ExecuteTime": {
     "end_time": "2020-01-26T12:42:43.871193Z",
     "start_time": "2020-01-26T12:42:43.864209Z"
    }
   },
   "outputs": [],
   "source": [
    "#Faccio una merge dei due dataframe \n",
    "\n",
    "tot = pd.merge(loans_diff_year_tot, loans_same_year_tot, left_on =\"start_time\", right_on=\"disburse_time\", how=\"outer\")"
   ]
  },
  {
   "cell_type": "code",
   "execution_count": 94,
   "metadata": {
    "ExecuteTime": {
     "end_time": "2020-01-26T12:42:43.883188Z",
     "start_time": "2020-01-26T12:42:43.873185Z"
    }
   },
   "outputs": [
    {
     "data": {
      "text/html": [
       "<div>\n",
       "<style scoped>\n",
       "    .dataframe tbody tr th:only-of-type {\n",
       "        vertical-align: middle;\n",
       "    }\n",
       "\n",
       "    .dataframe tbody tr th {\n",
       "        vertical-align: top;\n",
       "    }\n",
       "\n",
       "    .dataframe thead th {\n",
       "        text-align: right;\n",
       "    }\n",
       "</style>\n",
       "<table border=\"1\" class=\"dataframe\">\n",
       "  <thead>\n",
       "    <tr style=\"text-align: right;\">\n",
       "      <th></th>\n",
       "      <th>start_time</th>\n",
       "      <th>loan_amount_per_year</th>\n",
       "      <th>disburse_time</th>\n",
       "      <th>loan_amount</th>\n",
       "    </tr>\n",
       "  </thead>\n",
       "  <tbody>\n",
       "    <tr>\n",
       "      <td>0</td>\n",
       "      <td>2011</td>\n",
       "      <td>6.614928e+05</td>\n",
       "      <td>NaN</td>\n",
       "      <td>NaN</td>\n",
       "    </tr>\n",
       "    <tr>\n",
       "      <td>1</td>\n",
       "      <td>2012</td>\n",
       "      <td>9.251024e+06</td>\n",
       "      <td>2012.0</td>\n",
       "      <td>103911725.0</td>\n",
       "    </tr>\n",
       "    <tr>\n",
       "      <td>2</td>\n",
       "      <td>2013</td>\n",
       "      <td>2.512557e+07</td>\n",
       "      <td>2013.0</td>\n",
       "      <td>98427750.0</td>\n",
       "    </tr>\n",
       "    <tr>\n",
       "      <td>3</td>\n",
       "      <td>2014</td>\n",
       "      <td>3.001850e+07</td>\n",
       "      <td>2014.0</td>\n",
       "      <td>120644250.0</td>\n",
       "    </tr>\n",
       "    <tr>\n",
       "      <td>4</td>\n",
       "      <td>2015</td>\n",
       "      <td>2.394231e+07</td>\n",
       "      <td>2015.0</td>\n",
       "      <td>131208475.0</td>\n",
       "    </tr>\n",
       "    <tr>\n",
       "      <td>5</td>\n",
       "      <td>2016</td>\n",
       "      <td>2.081552e+07</td>\n",
       "      <td>2016.0</td>\n",
       "      <td>133271575.0</td>\n",
       "    </tr>\n",
       "    <tr>\n",
       "      <td>6</td>\n",
       "      <td>2017</td>\n",
       "      <td>2.046922e+07</td>\n",
       "      <td>2017.0</td>\n",
       "      <td>144870625.0</td>\n",
       "    </tr>\n",
       "    <tr>\n",
       "      <td>7</td>\n",
       "      <td>2018</td>\n",
       "      <td>4.877086e+06</td>\n",
       "      <td>2018.0</td>\n",
       "      <td>85300.0</td>\n",
       "    </tr>\n",
       "  </tbody>\n",
       "</table>\n",
       "</div>"
      ],
      "text/plain": [
       "   start_time  loan_amount_per_year  disburse_time  loan_amount\n",
       "0        2011          6.614928e+05            NaN          NaN\n",
       "1        2012          9.251024e+06         2012.0  103911725.0\n",
       "2        2013          2.512557e+07         2013.0   98427750.0\n",
       "3        2014          3.001850e+07         2014.0  120644250.0\n",
       "4        2015          2.394231e+07         2015.0  131208475.0\n",
       "5        2016          2.081552e+07         2016.0  133271575.0\n",
       "6        2017          2.046922e+07         2017.0  144870625.0\n",
       "7        2018          4.877086e+06         2018.0      85300.0"
      ]
     },
     "metadata": {},
     "output_type": "display_data"
    }
   ],
   "source": [
    "display(tot)"
   ]
  },
  {
   "cell_type": "code",
   "execution_count": 95,
   "metadata": {
    "ExecuteTime": {
     "end_time": "2020-01-26T12:42:43.892159Z",
     "start_time": "2020-01-26T12:42:43.885154Z"
    }
   },
   "outputs": [],
   "source": [
    "#Riempio i valori vuoti con 0, in quanto potrebbero creare problemi\n",
    "#Se in una riga abbiamo \"X\" = 50 e \"Y =  NaN\", la loro somma ci darebbe NaN\n",
    "#Noi invece vogliamo che la loro somma X+Y sia = 50. \n",
    "#Inoltre bisogna sistemare le colonne start_time e disburse_time, per le righe a cui corrisponde un anno che era presente solo \n",
    "#in uno dei due dataframe a cui ho fatto la merge (riga corrispondente all'anno: 2011)\n",
    "\n",
    "tot[[\"loan_amount_per_year\" , \"loan_amount\"]] = tot[[\"loan_amount_per_year\" , \"loan_amount\"]].fillna(0)\n",
    "tot[\"start_time\"] = tot[\"start_time\"].fillna(tot[\"disburse_time\"])\n",
    "tot[\"disburse_time\"] = tot[\"disburse_time\"].fillna(tot[\"start_time\"])"
   ]
  },
  {
   "cell_type": "code",
   "execution_count": 96,
   "metadata": {
    "ExecuteTime": {
     "end_time": "2020-01-26T12:42:43.904102Z",
     "start_time": "2020-01-26T12:42:43.894130Z"
    }
   },
   "outputs": [
    {
     "data": {
      "text/html": [
       "<div>\n",
       "<style scoped>\n",
       "    .dataframe tbody tr th:only-of-type {\n",
       "        vertical-align: middle;\n",
       "    }\n",
       "\n",
       "    .dataframe tbody tr th {\n",
       "        vertical-align: top;\n",
       "    }\n",
       "\n",
       "    .dataframe thead th {\n",
       "        text-align: right;\n",
       "    }\n",
       "</style>\n",
       "<table border=\"1\" class=\"dataframe\">\n",
       "  <thead>\n",
       "    <tr style=\"text-align: right;\">\n",
       "      <th></th>\n",
       "      <th>start_time</th>\n",
       "      <th>loan_amount_per_year</th>\n",
       "      <th>disburse_time</th>\n",
       "      <th>loan_amount</th>\n",
       "    </tr>\n",
       "  </thead>\n",
       "  <tbody>\n",
       "    <tr>\n",
       "      <td>0</td>\n",
       "      <td>2011</td>\n",
       "      <td>6.614928e+05</td>\n",
       "      <td>2011.0</td>\n",
       "      <td>0.0</td>\n",
       "    </tr>\n",
       "    <tr>\n",
       "      <td>1</td>\n",
       "      <td>2012</td>\n",
       "      <td>9.251024e+06</td>\n",
       "      <td>2012.0</td>\n",
       "      <td>103911725.0</td>\n",
       "    </tr>\n",
       "    <tr>\n",
       "      <td>2</td>\n",
       "      <td>2013</td>\n",
       "      <td>2.512557e+07</td>\n",
       "      <td>2013.0</td>\n",
       "      <td>98427750.0</td>\n",
       "    </tr>\n",
       "    <tr>\n",
       "      <td>3</td>\n",
       "      <td>2014</td>\n",
       "      <td>3.001850e+07</td>\n",
       "      <td>2014.0</td>\n",
       "      <td>120644250.0</td>\n",
       "    </tr>\n",
       "    <tr>\n",
       "      <td>4</td>\n",
       "      <td>2015</td>\n",
       "      <td>2.394231e+07</td>\n",
       "      <td>2015.0</td>\n",
       "      <td>131208475.0</td>\n",
       "    </tr>\n",
       "    <tr>\n",
       "      <td>5</td>\n",
       "      <td>2016</td>\n",
       "      <td>2.081552e+07</td>\n",
       "      <td>2016.0</td>\n",
       "      <td>133271575.0</td>\n",
       "    </tr>\n",
       "    <tr>\n",
       "      <td>6</td>\n",
       "      <td>2017</td>\n",
       "      <td>2.046922e+07</td>\n",
       "      <td>2017.0</td>\n",
       "      <td>144870625.0</td>\n",
       "    </tr>\n",
       "    <tr>\n",
       "      <td>7</td>\n",
       "      <td>2018</td>\n",
       "      <td>4.877086e+06</td>\n",
       "      <td>2018.0</td>\n",
       "      <td>85300.0</td>\n",
       "    </tr>\n",
       "  </tbody>\n",
       "</table>\n",
       "</div>"
      ],
      "text/plain": [
       "   start_time  loan_amount_per_year  disburse_time  loan_amount\n",
       "0        2011          6.614928e+05         2011.0          0.0\n",
       "1        2012          9.251024e+06         2012.0  103911725.0\n",
       "2        2013          2.512557e+07         2013.0   98427750.0\n",
       "3        2014          3.001850e+07         2014.0  120644250.0\n",
       "4        2015          2.394231e+07         2015.0  131208475.0\n",
       "5        2016          2.081552e+07         2016.0  133271575.0\n",
       "6        2017          2.046922e+07         2017.0  144870625.0\n",
       "7        2018          4.877086e+06         2018.0      85300.0"
      ]
     },
     "metadata": {},
     "output_type": "display_data"
    }
   ],
   "source": [
    "display(tot)"
   ]
  },
  {
   "cell_type": "code",
   "execution_count": 97,
   "metadata": {
    "ExecuteTime": {
     "end_time": "2020-01-26T12:42:43.912108Z",
     "start_time": "2020-01-26T12:42:43.906097Z"
    }
   },
   "outputs": [],
   "source": [
    "#Sommo le due colonne degli ammontare dei due dataframe in una sola colonna\n",
    "\n",
    "tot[\"total_per_year\"] = tot[\"loan_amount_per_year\"] + tot[\"loan_amount\"]\n",
    "tot = tot[[\"start_time\", \"total_per_year\"]]"
   ]
  },
  {
   "cell_type": "code",
   "execution_count": 98,
   "metadata": {
    "ExecuteTime": {
     "end_time": "2020-01-26T12:42:43.922054Z",
     "start_time": "2020-01-26T12:42:43.913078Z"
    }
   },
   "outputs": [
    {
     "data": {
      "text/html": [
       "<div>\n",
       "<style scoped>\n",
       "    .dataframe tbody tr th:only-of-type {\n",
       "        vertical-align: middle;\n",
       "    }\n",
       "\n",
       "    .dataframe tbody tr th {\n",
       "        vertical-align: top;\n",
       "    }\n",
       "\n",
       "    .dataframe thead th {\n",
       "        text-align: right;\n",
       "    }\n",
       "</style>\n",
       "<table border=\"1\" class=\"dataframe\">\n",
       "  <thead>\n",
       "    <tr style=\"text-align: right;\">\n",
       "      <th></th>\n",
       "      <th>start_time</th>\n",
       "      <th>total_per_year</th>\n",
       "    </tr>\n",
       "  </thead>\n",
       "  <tbody>\n",
       "    <tr>\n",
       "      <td>0</td>\n",
       "      <td>2011</td>\n",
       "      <td>6.614928e+05</td>\n",
       "    </tr>\n",
       "    <tr>\n",
       "      <td>1</td>\n",
       "      <td>2012</td>\n",
       "      <td>1.131627e+08</td>\n",
       "    </tr>\n",
       "    <tr>\n",
       "      <td>2</td>\n",
       "      <td>2013</td>\n",
       "      <td>1.235533e+08</td>\n",
       "    </tr>\n",
       "    <tr>\n",
       "      <td>3</td>\n",
       "      <td>2014</td>\n",
       "      <td>1.506627e+08</td>\n",
       "    </tr>\n",
       "    <tr>\n",
       "      <td>4</td>\n",
       "      <td>2015</td>\n",
       "      <td>1.551508e+08</td>\n",
       "    </tr>\n",
       "    <tr>\n",
       "      <td>5</td>\n",
       "      <td>2016</td>\n",
       "      <td>1.540871e+08</td>\n",
       "    </tr>\n",
       "    <tr>\n",
       "      <td>6</td>\n",
       "      <td>2017</td>\n",
       "      <td>1.653398e+08</td>\n",
       "    </tr>\n",
       "    <tr>\n",
       "      <td>7</td>\n",
       "      <td>2018</td>\n",
       "      <td>4.962386e+06</td>\n",
       "    </tr>\n",
       "  </tbody>\n",
       "</table>\n",
       "</div>"
      ],
      "text/plain": [
       "   start_time  total_per_year\n",
       "0        2011    6.614928e+05\n",
       "1        2012    1.131627e+08\n",
       "2        2013    1.235533e+08\n",
       "3        2014    1.506627e+08\n",
       "4        2015    1.551508e+08\n",
       "5        2016    1.540871e+08\n",
       "6        2017    1.653398e+08\n",
       "7        2018    4.962386e+06"
      ]
     },
     "metadata": {},
     "output_type": "display_data"
    }
   ],
   "source": [
    "display(tot)"
   ]
  },
  {
   "cell_type": "markdown",
   "metadata": {},
   "source": [
    "***"
   ]
  },
  {
   "cell_type": "markdown",
   "metadata": {},
   "source": [
    "OS: Windows 10 <br>\n",
    "CPU: Intel Core i5-6600 3.30GHz <br>\n",
    "RAM: 16GB <br>\n",
    "GPU: Nvidia GeForce GTX 1060 6gb <br>\n",
    "Environment: Jupyter Notebook <br>\n",
    "<br>\n",
    "Tempo totale di esecuzione sulla macchina = 2 min, 38 sec"
   ]
  },
  {
   "cell_type": "markdown",
   "metadata": {},
   "source": [
    "***"
   ]
  }
 ],
 "metadata": {
  "kernelspec": {
   "display_name": "Python 3",
   "language": "python",
   "name": "python3"
  },
  "language_info": {
   "codemirror_mode": {
    "name": "ipython",
    "version": 3
   },
   "file_extension": ".py",
   "mimetype": "text/x-python",
   "name": "python",
   "nbconvert_exporter": "python",
   "pygments_lexer": "ipython3",
   "version": "3.7.4"
  }
 },
 "nbformat": 4,
 "nbformat_minor": 2
}
